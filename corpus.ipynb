{
 "cells": [
  {
   "cell_type": "code",
   "execution_count": 1,
   "metadata": {},
   "outputs": [],
   "source": [
    "import dhlab as dh\n",
    "import pandas as pd\n",
    "from dhlab import nbtokenizer"
   ]
  },
  {
   "cell_type": "code",
   "execution_count": 2,
   "metadata": {},
   "outputs": [],
   "source": [
    "pd.set_option('max_colwidth', 400)"
   ]
  },
  {
   "cell_type": "code",
   "execution_count": 3,
   "metadata": {},
   "outputs": [],
   "source": [
    "from collections import Counter\n",
    "def score_words_title(corpus, ref_corpus, head=10, relecance_cut=10):\n",
    "    local_words = Counter(dh.nbtokenizer.tokenize(' '.join(str(x) for x in list(corpus.frame.title)).lower()))\n",
    "    ref_words = Counter(dh.nbtokenizer.tokenize(' '.join(str(x) for x in list(ref_corpus.frame.title)).lower()))\n",
    "    local_words_frame = pd.DataFrame(local_words.items(), columns=[\"word\", \"freq\"]).set_index(\"word\")\n",
    "    ref_words_frame = pd.DataFrame(ref_words.items(), columns=[\"word\", \"freq\"]).set_index(\"word\")\n",
    "    local_words_frame[\"relfreq\"] = local_words_frame[\"freq\"] / local_words_frame.freq.sum()\n",
    "    ref_words_frame[\"relfreq\"] = ref_words_frame[\"freq\"] / ref_words_frame.freq.sum()\n",
    "    merged_frame = pd.merge(local_words_frame, ref_words_frame, left_index=True, right_index=True)\n",
    "    merged_frame[\"relevance\"] = merged_frame.relfreq_x / merged_frame.relfreq_y\n",
    "    sorted_merged_frame = merged_frame.sort_values(by=[\"relevance\"], ascending=False)\n",
    "    keyness = sorted_merged_frame[sorted_merged_frame.relevance > relecance_cut].sort_values(by=\"freq_x\", ascending=False).head(head)\n",
    "    return (local_words_frame, ref_words_frame, keyness)\n",
    "\n",
    "def score_words_fulltext(corpus, ref_corpus, head=10, relecance_cut=10):\n",
    "    corpus_cnt = corpus.count(words=sentiment_words)\n",
    "    ref_corpus_cnt = ref_corpus.count(words=sentiment_words)\n",
    "\n",
    "    # find total frequency\n",
    "    total_corpus = corpus_cnt.freq.transpose() / corpus_cnt.relfreq.transpose()\n",
    "    # pick the first non-NaN value for each dlabid\n",
    "    total_corpus = pd.DataFrame(total_corpus.bfill(axis=1).iloc[:, 0])\n",
    "    totalfreq_corpus = total_corpus.sum().iloc[0]\n",
    "    \n",
    "    total_ref_corpus = ref_corpus_cnt.freq.transpose() / ref_corpus_cnt.relfreq.transpose()\n",
    "    # pick the first non-NaN value for each dlabid\n",
    "    total_ref_corpus = pd.DataFrame(total_ref_corpus.bfill(axis=1).iloc[:, 0])\n",
    "    totalfreq_ref_corpus = total_ref_corpus.sum().iloc[0]\n",
    "    \n",
    "    local_words_frame = corpus_cnt.sum().frame\n",
    "    ref_words_frame = ref_corpus_cnt.sum().frame\n",
    "    local_words_frame[\"relfreq\"] = local_words_frame[\"freq\"] / totalfreq_corpus\n",
    "    ref_words_frame[\"relfreq\"] = ref_words_frame[\"freq\"] / totalfreq_ref_corpus\n",
    "    merged_frame = pd.merge(local_words_frame, ref_words_frame, left_index=True, right_index=True)\n",
    "    merged_frame[\"relevance\"] = merged_frame.relfreq_x / merged_frame.relfreq_y\n",
    "    sorted_merged_frame = merged_frame.sort_values(by=[\"relevance\"], ascending=False)\n",
    "    keyness = sorted_merged_frame[sorted_merged_frame.relevance > relecance_cut].sort_values(by=\"freq_x\", ascending=False).head(head)\n",
    "    return (local_words_frame, ref_words_frame, keyness)\n",
    "\n",
    "# sentiment analysis\n",
    "import sentiment\n",
    "positives, negatives = sentiment.load_norsentlex()\n",
    "sentiment_words = list(positives.terms) + list(negatives.terms)\n",
    "def score_sentiment(local_words_frame):\n",
    "    pos, neg = sentiment.load_norsentlex()\n",
    "    merged_frame_2 = local_words_frame.reset_index()\n",
    "    merged_frame_2[\"pos\"] = merged_frame_2.apply(lambda x: x.relfreq if x.word in list(pos.terms) else 0, axis=1)\n",
    "    merged_frame_2[\"neg\"] = merged_frame_2.apply(lambda x: x.relfreq if x.word in list(neg.terms) else 0, axis=1)\n",
    "    return (merged_frame_2[\"pos\"].sum() * 100, merged_frame_2[\"neg\"].sum() * 100)"
   ]
  },
  {
   "cell_type": "code",
   "execution_count": 4,
   "metadata": {},
   "outputs": [],
   "source": [
    "def sent_counter(text):\n",
    "    return sentiment.score_sentiment(text=text, positive=positives, negative=negatives)"
   ]
  },
  {
   "cell_type": "markdown",
   "metadata": {},
   "source": [
    "## Create a corpus of 641 books and a reference corpus from the same period"
   ]
  },
  {
   "cell_type": "markdown",
   "metadata": {},
   "source": [
    "Criteria:\n",
    "- Only books in Norwegian Bokmål (= nob as the first language in the langs field)\n",
    "- Between 1950 and 2024"
   ]
  },
  {
   "cell_type": "code",
   "execution_count": 5,
   "metadata": {},
   "outputs": [],
   "source": [
    "# get all books from the API\n",
    "#food_corpus = dh.Corpus(doctype=\"digibok\", ddk=\"641*\", from_year=1950, to_year=2024, lang=\"nob\", limit=5000)\n",
    "#food_corpus = dh.Corpus().from_df(food_corpus.frame[food_corpus.frame.langs.apply(lambda x: x.startswith(\"nob\"))])\n",
    "food_corpus = dh.Corpus.from_df(pd.read_excel(\"corpus.xlsx\"))"
   ]
  },
  {
   "cell_type": "code",
   "execution_count": 6,
   "metadata": {},
   "outputs": [],
   "source": [
    "# get all books from the API, then sample with a seed locally\n",
    "#sample_total_ref = dh.Corpus(doctype=\"digibok\", from_year=1950, to_year=2024, lang=\"nob\", limit=500000)\n",
    "#sample_total_ref = dh.Corpus().from_df(sample_total_ref.frame[sample_total_ref.frame.langs.apply(lambda x: x.startswith(\"nob\"))].sample(n=4250, random_state=1))\n",
    "sample_total_ref = dh.Corpus().from_df(pd.read_excel(\"ref_corpus.xlsx\"))"
   ]
  },
  {
   "cell_type": "code",
   "execution_count": 7,
   "metadata": {
    "scrolled": true
   },
   "outputs": [],
   "source": [
    "# get frequencies for titles and fulltext, compare with reference\n",
    "local_words_frame, ref_words_frame, keyness_title = score_words_title(food_corpus, sample_total_ref, head=200)\n",
    "local_words_frame_ft, ref_words_frame_ft, keyness_ft = score_words_fulltext(food_corpus, sample_total_ref, head=200)"
   ]
  },
  {
   "cell_type": "code",
   "execution_count": 8,
   "metadata": {},
   "outputs": [
    {
     "data": {
      "text/html": [
       "<div>\n",
       "<style scoped>\n",
       "    .dataframe tbody tr th:only-of-type {\n",
       "        vertical-align: middle;\n",
       "    }\n",
       "\n",
       "    .dataframe tbody tr th {\n",
       "        vertical-align: top;\n",
       "    }\n",
       "\n",
       "    .dataframe thead th {\n",
       "        text-align: right;\n",
       "    }\n",
       "</style>\n",
       "<table border=\"1\" class=\"dataframe\">\n",
       "  <thead>\n",
       "    <tr style=\"text-align: right;\">\n",
       "      <th></th>\n",
       "      <th>freq</th>\n",
       "      <th>relfreq</th>\n",
       "    </tr>\n",
       "    <tr>\n",
       "      <th>word</th>\n",
       "      <th></th>\n",
       "      <th></th>\n",
       "    </tr>\n",
       "  </thead>\n",
       "  <tbody>\n",
       "    <tr>\n",
       "      <th>:</th>\n",
       "      <td>2263</td>\n",
       "      <td>0.081948</td>\n",
       "    </tr>\n",
       "    <tr>\n",
       "      <th>og</th>\n",
       "      <td>1296</td>\n",
       "      <td>0.046931</td>\n",
       "    </tr>\n",
       "    <tr>\n",
       "      <th>,</th>\n",
       "      <td>897</td>\n",
       "      <td>0.032482</td>\n",
       "    </tr>\n",
       "    <tr>\n",
       "      <th>mat</th>\n",
       "      <td>590</td>\n",
       "      <td>0.021365</td>\n",
       "    </tr>\n",
       "    <tr>\n",
       "      <th>fra</th>\n",
       "      <td>495</td>\n",
       "      <td>0.017925</td>\n",
       "    </tr>\n",
       "    <tr>\n",
       "      <th>for</th>\n",
       "      <td>469</td>\n",
       "      <td>0.016984</td>\n",
       "    </tr>\n",
       "    <tr>\n",
       "      <th>i</th>\n",
       "      <td>409</td>\n",
       "      <td>0.014811</td>\n",
       "    </tr>\n",
       "    <tr>\n",
       "      <th>til</th>\n",
       "      <td>399</td>\n",
       "      <td>0.014449</td>\n",
       "    </tr>\n",
       "    <tr>\n",
       "      <th>en</th>\n",
       "      <td>378</td>\n",
       "      <td>0.013688</td>\n",
       "    </tr>\n",
       "    <tr>\n",
       "      <th>oppskrifter</th>\n",
       "      <td>348</td>\n",
       "      <td>0.012602</td>\n",
       "    </tr>\n",
       "  </tbody>\n",
       "</table>\n",
       "</div>"
      ],
      "text/plain": [
       "             freq   relfreq\n",
       "word                       \n",
       ":            2263  0.081948\n",
       "og           1296  0.046931\n",
       ",             897  0.032482\n",
       "mat           590  0.021365\n",
       "fra           495  0.017925\n",
       "for           469  0.016984\n",
       "i             409  0.014811\n",
       "til           399  0.014449\n",
       "en            378  0.013688\n",
       "oppskrifter   348  0.012602"
      ]
     },
     "execution_count": 8,
     "metadata": {},
     "output_type": "execute_result"
    }
   ],
   "source": [
    "# table 3\n",
    "local_words_frame.sort_values(by=\"freq\", ascending=False).head(10)"
   ]
  },
  {
   "cell_type": "code",
   "execution_count": 9,
   "metadata": {},
   "outputs": [
    {
     "data": {
      "text/html": [
       "<div>\n",
       "<style scoped>\n",
       "    .dataframe tbody tr th:only-of-type {\n",
       "        vertical-align: middle;\n",
       "    }\n",
       "\n",
       "    .dataframe tbody tr th {\n",
       "        vertical-align: top;\n",
       "    }\n",
       "\n",
       "    .dataframe thead th {\n",
       "        text-align: right;\n",
       "    }\n",
       "</style>\n",
       "<table border=\"1\" class=\"dataframe\">\n",
       "  <thead>\n",
       "    <tr style=\"text-align: right;\">\n",
       "      <th></th>\n",
       "      <th>freq</th>\n",
       "      <th>relfreq</th>\n",
       "    </tr>\n",
       "    <tr>\n",
       "      <th>word</th>\n",
       "      <th></th>\n",
       "      <th></th>\n",
       "    </tr>\n",
       "  </thead>\n",
       "  <tbody>\n",
       "    <tr>\n",
       "      <th>:</th>\n",
       "      <td>2664</td>\n",
       "      <td>0.079079</td>\n",
       "    </tr>\n",
       "    <tr>\n",
       "      <th>og</th>\n",
       "      <td>1495</td>\n",
       "      <td>0.044378</td>\n",
       "    </tr>\n",
       "    <tr>\n",
       "      <th>i</th>\n",
       "      <td>1182</td>\n",
       "      <td>0.035087</td>\n",
       "    </tr>\n",
       "    <tr>\n",
       "      <th>av</th>\n",
       "      <td>695</td>\n",
       "      <td>0.020630</td>\n",
       "    </tr>\n",
       "    <tr>\n",
       "      <th>,</th>\n",
       "      <td>656</td>\n",
       "      <td>0.019473</td>\n",
       "    </tr>\n",
       "    <tr>\n",
       "      <th>for</th>\n",
       "      <td>621</td>\n",
       "      <td>0.018434</td>\n",
       "    </tr>\n",
       "    <tr>\n",
       "      <th>en</th>\n",
       "      <td>433</td>\n",
       "      <td>0.012853</td>\n",
       "    </tr>\n",
       "    <tr>\n",
       "      <th>til</th>\n",
       "      <td>373</td>\n",
       "      <td>0.011072</td>\n",
       "    </tr>\n",
       "    <tr>\n",
       "      <th>.</th>\n",
       "      <td>369</td>\n",
       "      <td>0.010953</td>\n",
       "    </tr>\n",
       "    <tr>\n",
       "      <th>om</th>\n",
       "      <td>339</td>\n",
       "      <td>0.010063</td>\n",
       "    </tr>\n",
       "  </tbody>\n",
       "</table>\n",
       "</div>"
      ],
      "text/plain": [
       "      freq   relfreq\n",
       "word                \n",
       ":     2664  0.079079\n",
       "og    1495  0.044378\n",
       "i     1182  0.035087\n",
       "av     695  0.020630\n",
       ",      656  0.019473\n",
       "for    621  0.018434\n",
       "en     433  0.012853\n",
       "til    373  0.011072\n",
       ".      369  0.010953\n",
       "om     339  0.010063"
      ]
     },
     "execution_count": 9,
     "metadata": {},
     "output_type": "execute_result"
    }
   ],
   "source": [
    "# table 4\n",
    "ref_words_frame.sort_values(by=\"freq\", ascending=False).head(10)"
   ]
  },
  {
   "cell_type": "code",
   "execution_count": 10,
   "metadata": {},
   "outputs": [
    {
     "data": {
      "text/html": [
       "<div>\n",
       "<style scoped>\n",
       "    .dataframe tbody tr th:only-of-type {\n",
       "        vertical-align: middle;\n",
       "    }\n",
       "\n",
       "    .dataframe tbody tr th {\n",
       "        vertical-align: top;\n",
       "    }\n",
       "\n",
       "    .dataframe thead th {\n",
       "        text-align: right;\n",
       "    }\n",
       "</style>\n",
       "<table border=\"1\" class=\"dataframe\">\n",
       "  <thead>\n",
       "    <tr style=\"text-align: right;\">\n",
       "      <th></th>\n",
       "      <th>freq_x</th>\n",
       "      <th>relfreq_x</th>\n",
       "      <th>freq_y</th>\n",
       "      <th>relfreq_y</th>\n",
       "      <th>relevance</th>\n",
       "    </tr>\n",
       "    <tr>\n",
       "      <th>word</th>\n",
       "      <th></th>\n",
       "      <th></th>\n",
       "      <th></th>\n",
       "      <th></th>\n",
       "      <th></th>\n",
       "    </tr>\n",
       "  </thead>\n",
       "  <tbody>\n",
       "    <tr>\n",
       "      <th>mat</th>\n",
       "      <td>590</td>\n",
       "      <td>0.021365</td>\n",
       "      <td>8</td>\n",
       "      <td>0.000237</td>\n",
       "      <td>89.968858</td>\n",
       "    </tr>\n",
       "    <tr>\n",
       "      <th>oppskrifter</th>\n",
       "      <td>348</td>\n",
       "      <td>0.012602</td>\n",
       "      <td>2</td>\n",
       "      <td>0.000059</td>\n",
       "      <td>212.265508</td>\n",
       "    </tr>\n",
       "    <tr>\n",
       "      <th>beste</th>\n",
       "      <td>163</td>\n",
       "      <td>0.005903</td>\n",
       "      <td>8</td>\n",
       "      <td>0.000237</td>\n",
       "      <td>24.855803</td>\n",
       "    </tr>\n",
       "    <tr>\n",
       "      <th>godt</th>\n",
       "      <td>140</td>\n",
       "      <td>0.005070</td>\n",
       "      <td>6</td>\n",
       "      <td>0.000178</td>\n",
       "      <td>28.464723</td>\n",
       "    </tr>\n",
       "    <tr>\n",
       "      <th>vin</th>\n",
       "      <td>102</td>\n",
       "      <td>0.003694</td>\n",
       "      <td>2</td>\n",
       "      <td>0.000059</td>\n",
       "      <td>62.215752</td>\n",
       "    </tr>\n",
       "    <tr>\n",
       "      <th>kaker</th>\n",
       "      <td>87</td>\n",
       "      <td>0.003150</td>\n",
       "      <td>2</td>\n",
       "      <td>0.000059</td>\n",
       "      <td>53.066377</td>\n",
       "    </tr>\n",
       "    <tr>\n",
       "      <th>verdens</th>\n",
       "      <td>85</td>\n",
       "      <td>0.003078</td>\n",
       "      <td>8</td>\n",
       "      <td>0.000237</td>\n",
       "      <td>12.961615</td>\n",
       "    </tr>\n",
       "    <tr>\n",
       "      <th>god</th>\n",
       "      <td>82</td>\n",
       "      <td>0.002969</td>\n",
       "      <td>10</td>\n",
       "      <td>0.000297</td>\n",
       "      <td>10.003317</td>\n",
       "    </tr>\n",
       "    <tr>\n",
       "      <th>gode</th>\n",
       "      <td>80</td>\n",
       "      <td>0.002897</td>\n",
       "      <td>8</td>\n",
       "      <td>0.000237</td>\n",
       "      <td>12.199167</td>\n",
       "    </tr>\n",
       "    <tr>\n",
       "      <th>fisk</th>\n",
       "      <td>77</td>\n",
       "      <td>0.002788</td>\n",
       "      <td>8</td>\n",
       "      <td>0.000237</td>\n",
       "      <td>11.741698</td>\n",
       "    </tr>\n",
       "  </tbody>\n",
       "</table>\n",
       "</div>"
      ],
      "text/plain": [
       "             freq_x  relfreq_x  freq_y  relfreq_y   relevance\n",
       "word                                                         \n",
       "mat             590   0.021365       8   0.000237   89.968858\n",
       "oppskrifter     348   0.012602       2   0.000059  212.265508\n",
       "beste           163   0.005903       8   0.000237   24.855803\n",
       "godt            140   0.005070       6   0.000178   28.464723\n",
       "vin             102   0.003694       2   0.000059   62.215752\n",
       "kaker            87   0.003150       2   0.000059   53.066377\n",
       "verdens          85   0.003078       8   0.000237   12.961615\n",
       "god              82   0.002969      10   0.000297   10.003317\n",
       "gode             80   0.002897       8   0.000237   12.199167\n",
       "fisk             77   0.002788       8   0.000237   11.741698"
      ]
     },
     "execution_count": 10,
     "metadata": {},
     "output_type": "execute_result"
    }
   ],
   "source": [
    "# table 5\n",
    "keyness_title.sort_values(by=\"freq_x\", ascending=False).head(10)"
   ]
  },
  {
   "cell_type": "code",
   "execution_count": 11,
   "metadata": {},
   "outputs": [
    {
     "name": "stdout",
     "output_type": "stream",
     "text": [
      "4250\n"
     ]
    }
   ],
   "source": [
    "# how large is the corpus?\n",
    "# number of docs\n",
    "print(len(food_corpus))"
   ]
  },
  {
   "cell_type": "code",
   "execution_count": 12,
   "metadata": {},
   "outputs": [
    {
     "name": "stdout",
     "output_type": "stream",
     "text": [
      "27615\n",
      "33688\n"
     ]
    }
   ],
   "source": [
    "# count words in title\n",
    "print(local_words_frame[\"freq\"].sum())\n",
    "print(ref_words_frame[\"freq\"].sum())"
   ]
  },
  {
   "cell_type": "code",
   "execution_count": 13,
   "metadata": {},
   "outputs": [
    {
     "name": "stdout",
     "output_type": "stream",
     "text": [
      "5335\n",
      "11172\n"
     ]
    }
   ],
   "source": [
    "# count types in title\n",
    "print(len(local_words_frame))\n",
    "print(len(ref_words_frame))"
   ]
  },
  {
   "cell_type": "code",
   "execution_count": 14,
   "metadata": {},
   "outputs": [
    {
     "data": {
      "text/plain": [
       "1.0033246259795772"
      ]
     },
     "execution_count": 14,
     "metadata": {},
     "output_type": "execute_result"
    }
   ],
   "source": [
    "# lookup 'fra' in the reference corpus\n",
    "ref_words_frame.loc[\"fra\"][\"relfreq\"] * 100"
   ]
  },
  {
   "cell_type": "markdown",
   "metadata": {},
   "source": [
    "## Look at some examples"
   ]
  },
  {
   "cell_type": "code",
   "execution_count": 15,
   "metadata": {},
   "outputs": [],
   "source": [
    "food_corpus.frame[\"title_sentiment\"] = food_corpus[\"title\"].apply(lambda x: sent_counter(x.lower()))\n",
    "food_corpus.frame[\"positive\"] = food_corpus[\"title_sentiment\"].apply(lambda x: x[0])\n",
    "food_corpus.frame[\"negative\"] = food_corpus[\"title_sentiment\"].apply(lambda x: x[1])"
   ]
  },
  {
   "cell_type": "code",
   "execution_count": 16,
   "metadata": {},
   "outputs": [
    {
     "data": {
      "text/html": [
       "<div>\n",
       "<style scoped>\n",
       "    .dataframe tbody tr th:only-of-type {\n",
       "        vertical-align: middle;\n",
       "    }\n",
       "\n",
       "    .dataframe tbody tr th {\n",
       "        vertical-align: top;\n",
       "    }\n",
       "\n",
       "    .dataframe thead th {\n",
       "        text-align: right;\n",
       "    }\n",
       "</style>\n",
       "<table border=\"1\" class=\"dataframe\">\n",
       "  <thead>\n",
       "    <tr style=\"text-align: right;\">\n",
       "      <th></th>\n",
       "      <th>title</th>\n",
       "      <th>positive</th>\n",
       "    </tr>\n",
       "  </thead>\n",
       "  <tbody>\n",
       "    <tr>\n",
       "      <th>2273</th>\n",
       "      <td>Sunt snop &amp; snacks : 23 fantastiske søte og salte oppskrifter på sunne godsaker som kan nytes med god samvittighet</td>\n",
       "      <td>6</td>\n",
       "    </tr>\n",
       "    <tr>\n",
       "      <th>2865</th>\n",
       "      <td>Sunn mat når du får cellegift : en kokk og en lege har slått seg sammen for å inspirere deg med over 100 delikate retter</td>\n",
       "      <td>6</td>\n",
       "    </tr>\n",
       "    <tr>\n",
       "      <th>1308</th>\n",
       "      <td>Annabel Karmel ' s matpakker og snacks : mer enn 120 sunne oppskrifter på supergode matpakker for barn og voksne ! : nydelige smørbrød , friske salater , varmende supper og søte godbiter !</td>\n",
       "      <td>6</td>\n",
       "    </tr>\n",
       "    <tr>\n",
       "      <th>322</th>\n",
       "      <td>Moderne kosthold : en sikker grunnvoll for familiens helse : bedre økonomi - mindre tretthet - større energi</td>\n",
       "      <td>6</td>\n",
       "    </tr>\n",
       "    <tr>\n",
       "      <th>3080</th>\n",
       "      <td>Helt naturlig mat : spis deg ned i vekt , få masse energi og en frisk kropp : 108 sunne oppskrifter</td>\n",
       "      <td>5</td>\n",
       "    </tr>\n",
       "  </tbody>\n",
       "</table>\n",
       "</div>"
      ],
      "text/plain": [
       "                                                                                                                                                                                             title  \\\n",
       "2273                                                                            Sunt snop & snacks : 23 fantastiske søte og salte oppskrifter på sunne godsaker som kan nytes med god samvittighet   \n",
       "2865                                                                      Sunn mat når du får cellegift : en kokk og en lege har slått seg sammen for å inspirere deg med over 100 delikate retter   \n",
       "1308  Annabel Karmel ' s matpakker og snacks : mer enn 120 sunne oppskrifter på supergode matpakker for barn og voksne ! : nydelige smørbrød , friske salater , varmende supper og søte godbiter !   \n",
       "322                                                                                   Moderne kosthold : en sikker grunnvoll for familiens helse : bedre økonomi - mindre tretthet - større energi   \n",
       "3080                                                                                           Helt naturlig mat : spis deg ned i vekt , få masse energi og en frisk kropp : 108 sunne oppskrifter   \n",
       "\n",
       "      positive  \n",
       "2273         6  \n",
       "2865         6  \n",
       "1308         6  \n",
       "322          6  \n",
       "3080         5  "
      ]
     },
     "execution_count": 16,
     "metadata": {},
     "output_type": "execute_result"
    }
   ],
   "source": [
    "food_corpus.frame.sort_values(by=\"positive\", ascending=False)[[\"title\", \"positive\"]].head(5)"
   ]
  },
  {
   "cell_type": "markdown",
   "metadata": {},
   "source": [
    "## Look at sentiment of titles"
   ]
  },
  {
   "cell_type": "code",
   "execution_count": 17,
   "metadata": {},
   "outputs": [],
   "source": [
    "local_pos, local_neg = score_sentiment(local_words_frame)\n",
    "local_title_diff = local_pos - local_neg\n",
    "ref_pos, ref_neg = score_sentiment(ref_words_frame)\n",
    "ref_title_diff = ref_pos - ref_neg"
   ]
  },
  {
   "cell_type": "code",
   "execution_count": 18,
   "metadata": {},
   "outputs": [
    {
     "name": "stdout",
     "output_type": "stream",
     "text": [
      "Food corpus:\n",
      "Positive: 9.856961796125297\n",
      "Negative: 3.23012855332247\n",
      "Reference corpus:\n",
      "Positive: 3.6719306578009974\n",
      "Negative: 3.0930895274281647\n"
     ]
    }
   ],
   "source": [
    "print(\"Food corpus:\")\n",
    "print(\"Positive:\", local_pos)\n",
    "print(\"Negative:\", local_neg)\n",
    "print(\"Reference corpus:\")\n",
    "print(\"Positive:\", ref_pos)\n",
    "print(\"Negative:\", ref_neg)"
   ]
  },
  {
   "cell_type": "code",
   "execution_count": 19,
   "metadata": {},
   "outputs": [
    {
     "name": "stdout",
     "output_type": "stream",
     "text": [
      "Diff in food corpus: 6.626833242802827\n",
      "Diff in reference corpus: 0.5788411303728327\n"
     ]
    }
   ],
   "source": [
    "print(\"Diff in food corpus:\", local_title_diff)\n",
    "print(\"Diff in reference corpus:\", ref_title_diff)"
   ]
  },
  {
   "cell_type": "code",
   "execution_count": 20,
   "metadata": {},
   "outputs": [
    {
     "data": {
      "text/html": [
       "<div>\n",
       "<style scoped>\n",
       "    .dataframe tbody tr th:only-of-type {\n",
       "        vertical-align: middle;\n",
       "    }\n",
       "\n",
       "    .dataframe tbody tr th {\n",
       "        vertical-align: top;\n",
       "    }\n",
       "\n",
       "    .dataframe thead th {\n",
       "        text-align: right;\n",
       "    }\n",
       "</style>\n",
       "<table border=\"1\" class=\"dataframe\">\n",
       "  <thead>\n",
       "    <tr style=\"text-align: right;\">\n",
       "      <th></th>\n",
       "      <th>freq</th>\n",
       "    </tr>\n",
       "    <tr>\n",
       "      <th>word</th>\n",
       "      <th></th>\n",
       "    </tr>\n",
       "  </thead>\n",
       "  <tbody>\n",
       "    <tr>\n",
       "      <th>dårlig</th>\n",
       "      <td>12782.0</td>\n",
       "    </tr>\n",
       "    <tr>\n",
       "      <th>god</th>\n",
       "      <td>126875.0</td>\n",
       "    </tr>\n",
       "  </tbody>\n",
       "</table>\n",
       "</div>"
      ],
      "text/plain": [
       "            freq\n",
       "word            \n",
       "dårlig   12782.0\n",
       "god     126875.0"
      ]
     },
     "execution_count": 20,
     "metadata": {},
     "output_type": "execute_result"
    }
   ],
   "source": [
    "food_corpus.count(words=[\"god\", \"dårlig\"]).sum()"
   ]
  },
  {
   "cell_type": "code",
   "execution_count": 21,
   "metadata": {},
   "outputs": [
    {
     "data": {
      "text/html": [
       "<div>\n",
       "<style scoped>\n",
       "    .dataframe tbody tr th:only-of-type {\n",
       "        vertical-align: middle;\n",
       "    }\n",
       "\n",
       "    .dataframe tbody tr th {\n",
       "        vertical-align: top;\n",
       "    }\n",
       "\n",
       "    .dataframe thead th {\n",
       "        text-align: right;\n",
       "    }\n",
       "</style>\n",
       "<table border=\"1\" class=\"dataframe\">\n",
       "  <thead>\n",
       "    <tr style=\"text-align: right;\">\n",
       "      <th></th>\n",
       "      <th>freq</th>\n",
       "    </tr>\n",
       "    <tr>\n",
       "      <th>word</th>\n",
       "      <th></th>\n",
       "    </tr>\n",
       "  </thead>\n",
       "  <tbody>\n",
       "    <tr>\n",
       "      <th>dårlig</th>\n",
       "      <td>24999.0</td>\n",
       "    </tr>\n",
       "    <tr>\n",
       "      <th>god</th>\n",
       "      <td>68694.0</td>\n",
       "    </tr>\n",
       "  </tbody>\n",
       "</table>\n",
       "</div>"
      ],
      "text/plain": [
       "           freq\n",
       "word           \n",
       "dårlig  24999.0\n",
       "god     68694.0"
      ]
     },
     "execution_count": 21,
     "metadata": {},
     "output_type": "execute_result"
    }
   ],
   "source": [
    "sample_total_ref.count(words=[\"god\", \"dårlig\"]).sum()"
   ]
  },
  {
   "cell_type": "code",
   "execution_count": null,
   "metadata": {},
   "outputs": [],
   "source": [
    "food_corpus.to_excel(\"corpus.xlsx\")"
   ]
  },
  {
   "cell_type": "code",
   "execution_count": null,
   "metadata": {},
   "outputs": [],
   "source": [
    "sample_total_ref.to_excel(\"ref_corpus.xlsx\")"
   ]
  },
  {
   "cell_type": "markdown",
   "metadata": {},
   "source": [
    "## Look at sentiment of fulltext"
   ]
  },
  {
   "cell_type": "code",
   "execution_count": 22,
   "metadata": {},
   "outputs": [],
   "source": [
    "local_pos_ft, local_neg_ft = score_sentiment(local_words_frame_ft)\n",
    "local_ft_diff = local_pos_ft - local_neg_ft\n",
    "ref_pos_ft, ref_neg_ft = score_sentiment(ref_words_frame_ft)\n",
    "ref_ft_diff = ref_pos_ft - ref_neg_ft"
   ]
  },
  {
   "cell_type": "code",
   "execution_count": 23,
   "metadata": {},
   "outputs": [
    {
     "name": "stdout",
     "output_type": "stream",
     "text": [
      "Food corpus:\n",
      "Positive: 4.924992846687165\n",
      "Negative: 4.777066335001884\n",
      "Reference corpus:\n",
      "Positive: 4.5468545930667945\n",
      "Negative: 4.73204403642502\n"
     ]
    }
   ],
   "source": [
    "print(\"Food corpus:\")\n",
    "print(\"Positive:\", local_pos_ft)\n",
    "print(\"Negative:\", local_neg_ft)\n",
    "print(\"Reference corpus:\")\n",
    "print(\"Positive:\", ref_pos_ft)\n",
    "print(\"Negative:\", ref_neg_ft)"
   ]
  },
  {
   "cell_type": "code",
   "execution_count": 24,
   "metadata": {},
   "outputs": [
    {
     "name": "stdout",
     "output_type": "stream",
     "text": [
      "Diff in food corpus (ft): 0.1479265116852817\n",
      "Diff in reference corpus (ft): -0.18518944335822507\n"
     ]
    }
   ],
   "source": [
    "print(\"Diff in food corpus (ft):\", local_ft_diff)\n",
    "print(\"Diff in reference corpus (ft):\", ref_ft_diff)"
   ]
  },
  {
   "cell_type": "code",
   "execution_count": 30,
   "metadata": {},
   "outputs": [],
   "source": [
    "# number of tokens in ft corpus"
   ]
  },
  {
   "cell_type": "code",
   "execution_count": 25,
   "metadata": {},
   "outputs": [
    {
     "data": {
      "text/plain": [
       "168345077.0"
      ]
     },
     "execution_count": 25,
     "metadata": {},
     "output_type": "execute_result"
    }
   ],
   "source": [
    "local_words_frame_ft.loc[\"abnorm\"][\"freq\"] / local_words_frame_ft.loc[\"abnorm\"][\"relfreq\"]"
   ]
  },
  {
   "cell_type": "code",
   "execution_count": 26,
   "metadata": {},
   "outputs": [
    {
     "data": {
      "text/plain": [
       "216359525.0"
      ]
     },
     "execution_count": 26,
     "metadata": {},
     "output_type": "execute_result"
    }
   ],
   "source": [
    "ref_words_frame_ft.loc[\"abnorm\"][\"freq\"] / ref_words_frame_ft.loc[\"abnorm\"][\"relfreq\"]"
   ]
  },
  {
   "cell_type": "markdown",
   "metadata": {},
   "source": [
    "# Compare all Dewey series"
   ]
  },
  {
   "cell_type": "code",
   "execution_count": null,
   "metadata": {},
   "outputs": [],
   "source": [
    "#for x in range(0,10):\n",
    "    #print(x)\n",
    "    #corpus = dh.Corpus(doctype=\"digibok\", ddk=\"%s*\" % (str(x)), lang=\"nob\", limit=500000)\n",
    "    #corpus = dh.Corpus().from_df(corpus.frame[corpus.frame.langs.apply(lambda x: x.startswith(\"nob\"))])\n",
    "\n",
    "    #if len(corpus) < 4250:\n",
    "        #samplesize = len(corpus)\n",
    "    #else:\n",
    "        #samplesize = 4250\n",
    "        \n",
    "    #corpus = dh.Corpus().from_df(corpus.frame.sample(n=samplesize, random_state=1))\n",
    "    #corpus.to_excel(\"corpus_%s.xlsx\" % (str(x)))"
   ]
  },
  {
   "cell_type": "code",
   "execution_count": 27,
   "metadata": {},
   "outputs": [],
   "source": [
    "corpus_0 = dh.Corpus().from_df(pd.read_excel(\"corpus_0.xlsx\"))\n",
    "corpus_1 = dh.Corpus().from_df(pd.read_excel(\"corpus_1.xlsx\"))\n",
    "corpus_2 = dh.Corpus().from_df(pd.read_excel(\"corpus_2.xlsx\"))\n",
    "corpus_3 = dh.Corpus().from_df(pd.read_excel(\"corpus_3.xlsx\"))\n",
    "corpus_4 = dh.Corpus().from_df(pd.read_excel(\"corpus_4.xlsx\"))\n",
    "corpus_5 = dh.Corpus().from_df(pd.read_excel(\"corpus_5.xlsx\"))\n",
    "corpus_6 = dh.Corpus().from_df(pd.read_excel(\"corpus_6.xlsx\"))\n",
    "corpus_7 = dh.Corpus().from_df(pd.read_excel(\"corpus_7.xlsx\"))\n",
    "corpus_8 = dh.Corpus().from_df(pd.read_excel(\"corpus_8.xlsx\"))\n",
    "corpus_9 = dh.Corpus().from_df(pd.read_excel(\"corpus_9.xlsx\"))"
   ]
  },
  {
   "cell_type": "code",
   "execution_count": 28,
   "metadata": {},
   "outputs": [],
   "source": [
    "corpora = [corpus_0, corpus_1, corpus_2, corpus_3, corpus_4, corpus_5, corpus_6, corpus_7, corpus_8, corpus_9]"
   ]
  },
  {
   "cell_type": "code",
   "execution_count": 29,
   "metadata": {},
   "outputs": [],
   "source": [
    "total_ref = pd.concat([corpus_0.frame, corpus_1.frame, corpus_2.frame, corpus_3.frame, corpus_4.frame, corpus_5.frame, corpus_6.frame, corpus_7.frame, corpus_8.frame, corpus_9.frame]).reset_index(drop=True)"
   ]
  },
  {
   "cell_type": "code",
   "execution_count": 30,
   "metadata": {},
   "outputs": [],
   "source": [
    "total_ref_corpus = dh.Corpus().from_df(total_ref)"
   ]
  },
  {
   "cell_type": "code",
   "execution_count": 31,
   "metadata": {},
   "outputs": [],
   "source": [
    "score_frame = {}"
   ]
  },
  {
   "cell_type": "code",
   "execution_count": 32,
   "metadata": {},
   "outputs": [
    {
     "name": "stdout",
     "output_type": "stream",
     "text": [
      "000\n",
      "Titles (000): (3.383287229838587, 2.222087120406116)\n",
      "Titles (reference): (3.6719306578009974, 3.0930895274281647)\n",
      "Fulltext (000): (3.691040953216005, 3.352599072422132)\n",
      "Fulltext (reference): (4.5468545930667945, 4.73204403642502)\n",
      "100\n",
      "Titles (100): (7.669763488760586, 4.674540605492219)\n",
      "Titles (reference): (3.6719306578009974, 3.0930895274281647)\n",
      "Fulltext (100): (5.844624046525264, 5.268031968972398)\n",
      "Fulltext (reference): (4.5468545930667945, 4.73204403642502)\n",
      "200\n",
      "Titles (200): (6.393759788717255, 2.9880539262352976)\n",
      "Titles (reference): (3.6719306578009974, 3.0930895274281647)\n",
      "Fulltext (200): (5.3660965557054485, 4.706737446853787)\n",
      "Fulltext (reference): (4.5468545930667945, 4.73204403642502)\n",
      "300\n",
      "Titles (300): (3.875402164375548, 2.661596958174905)\n",
      "Titles (reference): (3.6719306578009974, 3.0930895274281647)\n",
      "Fulltext (300): (4.657780538401764, 4.028703578652414)\n",
      "Fulltext (reference): (4.5468545930667945, 4.73204403642502)\n",
      "400\n",
      "Titles (400): (3.2809100959309583, 1.8045005527620273)\n",
      "Titles (reference): (3.6719306578009974, 3.0930895274281647)\n",
      "Fulltext (400): (3.119997029677837, 3.7094779180044704)\n",
      "Fulltext (reference): (4.5468545930667945, 4.73204403642502)\n",
      "500\n",
      "Titles (500): (2.877269570393888, 2.530012898104971)\n",
      "Titles (reference): (3.6719306578009974, 3.0930895274281647)\n",
      "Fulltext (500): (3.9540414588946624, 3.5280308275114645)\n",
      "Fulltext (reference): (4.5468545930667945, 4.73204403642502)\n",
      "600\n",
      "Titles (600): (5.541444678478504, 3.233800024780077)\n",
      "Titles (reference): (3.6719306578009974, 3.0930895274281647)\n",
      "Fulltext (600): (4.851485013721948, 4.480025190242849)\n",
      "Fulltext (reference): (4.5468545930667945, 4.73204403642502)\n",
      "700\n",
      "Titles (700): (3.90386402868145, 2.576019120966671)\n",
      "Titles (reference): (3.6719306578009974, 3.0930895274281647)\n",
      "Fulltext (700): (4.430810412777708, 3.758335372003662)\n",
      "Fulltext (reference): (4.5468545930667945, 4.73204403642502)\n",
      "800\n",
      "Titles (800): (5.389653307696929, 7.102084960644114)\n",
      "Titles (reference): (3.6719306578009974, 3.0930895274281647)\n",
      "Fulltext (800): (4.89883039131229, 6.465176793045608)\n",
      "Fulltext (reference): (4.5468545930667945, 4.73204403642502)\n",
      "900\n",
      "Titles (900): (2.79189352692075, 2.7041742286751362)\n",
      "Titles (reference): (3.6719306578009974, 3.0930895274281647)\n",
      "Fulltext (900): (3.6766216664232085, 3.8592298654508443)\n",
      "Fulltext (reference): (4.5468545930667945, 4.73204403642502)\n"
     ]
    }
   ],
   "source": [
    "for idx, corpus in enumerate(corpora):\n",
    "    dewey = \"%s00\" % (str(idx))\n",
    "    print(dewey)\n",
    "    local_words_frame, ref_words_frame, keyness_title = score_words_title(corpus, sample_total_ref, relecance_cut=500)\n",
    "    local_words_frame_ft, ref_words_frame_ft, keyness_ft = score_words_fulltext(corpus, sample_total_ref, relecance_cut=500)\n",
    "    \n",
    "    sent_local_title = score_sentiment(local_words_frame)\n",
    "    print(\"Titles (%s):\" % (dewey), sent_local_title)\n",
    "    sent_ref_title = score_sentiment(ref_words_frame)\n",
    "    print(\"Titles (reference):\", sent_ref_title)\n",
    "    sent_local_ft = score_sentiment(local_words_frame_ft)\n",
    "    print(\"Fulltext (%s):\" % (dewey), sent_local_ft)\n",
    "    sent_ref_ft = score_sentiment(ref_words_frame_ft)\n",
    "    print(\"Fulltext (reference):\", sent_ref_ft)\n",
    "    score_frame[dewey] = {\"local_words_frame\": local_words_frame, \"ref_words_frame\": ref_words_frame, \"keyness_title\": keyness_title, \"local_words_frame_ft\": local_words_frame_ft, \"ref_words_frame_ft\": ref_words_frame_ft, \"keyness_ft\": keyness_ft, \"sent_local_title\": sent_local_title, \"sent_ref_title\": sent_ref_title, \"sent_local_ft\": sent_local_ft, \"sent_ref_ft\": sent_ref_ft}"
   ]
  },
  {
   "cell_type": "code",
   "execution_count": 33,
   "metadata": {},
   "outputs": [],
   "source": [
    "def compare(dewey=\"400\"):\n",
    "    merge = pd.merge(score_frame[dewey][\"local_words_frame_ft\"], score_frame[dewey][\"ref_words_frame_ft\"], on=\"word\")\n",
    "    merge[\"keyness\"] = merge.relfreq_x / merge.relfreq_y\n",
    "    frame = merge.sort_values(by=\"keyness\", ascending=False).head(50).sort_values(by=\"freq_x\", ascending=False)\n",
    "    print(dewey)\n",
    "    print(frame)"
   ]
  },
  {
   "cell_type": "code",
   "execution_count": 34,
   "metadata": {},
   "outputs": [
    {
     "name": "stdout",
     "output_type": "stream",
     "text": [
      "900\n",
      "                 freq_x     relfreq_x  freq_y     relfreq_y    keyness\n",
      "word                                                                  \n",
      "gifta            6055.0  1.623683e-05   202.0  9.336312e-07  17.391057\n",
      "bedr              829.0  2.223012e-06    48.0  2.218530e-07  10.020203\n",
      "vides             671.0  1.799325e-06    41.0  1.894994e-07   9.495151\n",
      "skrapere          385.0  1.032400e-06    21.0  9.706067e-08  10.636645\n",
      "verdsett          367.0  9.841318e-07    13.0  6.008518e-08  16.378945\n",
      "nedgangstida      308.0  8.259199e-07     4.0  1.848775e-08  44.673907\n",
      "offensiver        269.0  7.213391e-07    14.0  6.470711e-08  11.147756\n",
      "dødde             218.0  5.845796e-07     9.0  4.159743e-08  14.053264\n",
      "roede             205.0  5.497194e-07     9.0  4.159743e-08  13.215225\n",
      "kooperativene     192.0  5.148591e-07    11.0  5.084130e-08  10.126789\n",
      "egl               173.0  4.639095e-07    10.0  4.621937e-08  10.037125\n",
      "rettssaka         146.0  3.915075e-07     2.0  9.243873e-09  42.353185\n",
      "oppgies           142.0  3.807812e-07     5.0  2.310968e-08  16.477129\n",
      "angr              136.0  3.646919e-07     8.0  3.697549e-08   9.863070\n",
      "brenninga         103.0  2.762005e-07     6.0  2.773162e-08   9.959767\n",
      "innstevna          82.0  2.198878e-07     1.0  4.621937e-09  47.574810\n",
      "bombardementene    75.0  2.011168e-07     4.0  1.848775e-08  10.878386\n",
      "mytt               65.0  1.743013e-07     1.0  4.621937e-09  37.711740\n",
      "privilegia         60.0  1.608935e-07     2.0  9.243873e-09  17.405418\n",
      "illegalitet        52.0  1.394410e-07     1.0  4.621937e-09  30.169392\n",
      "pestene            50.0  1.340779e-07     3.0  1.386581e-08   9.669677\n",
      "uordener           44.0  1.179886e-07     1.0  4.621937e-09  25.527947\n",
      "berøvede           43.0  1.153070e-07     2.0  9.243873e-09  12.473883\n",
      "geilen             42.0  1.126254e-07     2.0  9.243873e-09  12.183793\n",
      "besværligere       39.0  1.045808e-07     2.0  9.243873e-09  11.313522\n",
      "tiggeri            37.0  9.921765e-08     2.0  9.243873e-09  10.733341\n",
      "utsmykkete         36.0  9.653609e-08     1.0  4.621937e-09  20.886502\n",
      "ergr               36.0  9.653609e-08     2.0  9.243873e-09  10.443251\n",
      "forbaud            34.0  9.117297e-08     1.0  4.621937e-09  19.726141\n",
      "innstevnede        34.0  9.117297e-08     2.0  9.243873e-09   9.863070\n",
      "stolende           34.0  9.117297e-08     2.0  9.243873e-09   9.863070\n",
      "anklagete          32.0  8.580986e-08     1.0  4.621937e-09  18.565780\n",
      "letterne           29.0  7.776518e-08     1.0  4.621937e-09  16.825238\n",
      "skjendigheter      27.0  7.240207e-08     1.0  4.621937e-09  15.664876\n",
      "underbød           23.0  6.167583e-08     1.0  4.621937e-09  13.344154\n",
      "rotene             22.0  5.899428e-08     1.0  4.621937e-09  12.763973\n",
      "mishandlinga       21.0  5.631272e-08     1.0  4.621937e-09  12.183793\n",
      "nagene             21.0  5.631272e-08     1.0  4.621937e-09  12.183793\n",
      "angreip            20.0  5.363116e-08     1.0  4.621937e-09  11.603612\n",
      "utsultete          20.0  5.363116e-08     1.0  4.621937e-09  11.603612\n",
      "fragikk            19.0  5.094960e-08     1.0  4.621937e-09  11.023432\n",
      "undertvinges       18.0  4.826804e-08     1.0  4.621937e-09  10.443251\n",
      "motgangene         18.0  4.826804e-08     1.0  4.621937e-09  10.443251\n",
      "forbydde           18.0  4.826804e-08     1.0  4.621937e-09  10.443251\n",
      "sultede            18.0  4.826804e-08     1.0  4.621937e-09  10.443251\n",
      "videte             18.0  4.826804e-08     1.0  4.621937e-09  10.443251\n",
      "overbefolkete      17.0  4.558649e-08     1.0  4.621937e-09   9.863070\n",
      "nødsignalene       17.0  4.558649e-08     1.0  4.621937e-09   9.863070\n",
      "profittene         16.0  4.290493e-08     1.0  4.621937e-09   9.282890\n",
      "tilstående         16.0  4.290493e-08     1.0  4.621937e-09   9.282890\n"
     ]
    }
   ],
   "source": [
    "compare(dewey=\"900\")"
   ]
  },
  {
   "cell_type": "code",
   "execution_count": 35,
   "metadata": {},
   "outputs": [],
   "source": [
    "dewey_categories = {\"000\": \"000 Computer Science\",\n",
    "\"100\": \"100 Philosophy & Psychology\",\n",
    "\"200\": \"200 Religion\",\n",
    "\"300\": \"300 Social Sciences\",\n",
    "\"400\": \"400 Language\",\n",
    "\"500\": \"500 Science\",\n",
    "\"600\": \"600 Technology\",\n",
    "\"700\": \"700 Arts & Recreation\",\n",
    "\"800\": \"800 Literature\",\n",
    "\"900\": \"900 History & Geography\",\n",
    "\"641\": \"641 Food and drink\",\n",
    "\"999\": \"Reference corpus\"}"
   ]
  },
  {
   "cell_type": "code",
   "execution_count": 36,
   "metadata": {},
   "outputs": [],
   "source": [
    "data = dict()\n",
    "for dewey in score_frame:\n",
    "    label = dewey\n",
    "    pos, neg = score_frame[dewey][\"sent_local_title\"]\n",
    "    title_dist = pos - neg\n",
    "    pos, neg = score_frame[dewey][\"sent_local_ft\"]\n",
    "    ft_dist = pos - neg\n",
    "    data[label] = [title_dist, ft_dist]"
   ]
  },
  {
   "cell_type": "code",
   "execution_count": 37,
   "metadata": {},
   "outputs": [],
   "source": [
    "# add data from the food corpus\n",
    "data[\"641\"] = [local_title_diff, local_ft_diff]\n",
    "data[\"999\"] = [ref_title_diff, ref_ft_diff]"
   ]
  },
  {
   "cell_type": "code",
   "execution_count": 38,
   "metadata": {},
   "outputs": [],
   "source": [
    "%matplotlib inline\n",
    "import matplotlib.pyplot as plt\n",
    "import numpy as np"
   ]
  },
  {
   "cell_type": "code",
   "execution_count": 45,
   "metadata": {},
   "outputs": [
    {
     "data": {
      "image/png": "[encoded data removed]",
      "text/plain": [
       "<Figure size 1500x1000 with 1 Axes>"
      ]
     },
     "metadata": {},
     "output_type": "display_data"
    }
   ],
   "source": [
    "# Extract x and y values\n",
    "y_values = [dewey_categories[key] for key in data.keys()]\n",
    "x_values_1 = [value[0] for value in data.values()]\n",
    "x_values_2 = [value[1] for value in data.values()]\n",
    "\n",
    "# Create scatter plots for both datasets\n",
    "plt.scatter(x_values_1, y_values, label='titles', s=150)\n",
    "plt.scatter(x_values_2, y_values, label='fulltext', s=150)\n",
    "\n",
    "# Customize the plot (optional)\n",
    "plt.xlabel('diff in pos/neg', fontsize=12)\n",
    "plt.ylabel('Dewey classes', fontsize=12)\n",
    "plt.title('Sentiment of Dewey classes')\n",
    "plt.legend()\n",
    "\n",
    "plt.axvline(x=0, color='red', linestyle='--', label='x=0')\n",
    "\n",
    "# Set x-axis limits to show numbers between -10 and 10\n",
    "plt.xlim(-5, 7)\n",
    "\n",
    "plt.xticks(fontsize=12)\n",
    "plt.yticks(fontsize=12)\n",
    "\n",
    "plt.tight_layout()\n",
    "\n",
    "plt.savefig(\"sentiment.png\", dpi=300)\n",
    "\n",
    "# Show the plot\n",
    "#plt.show()"
   ]
  },
  {
   "cell_type": "code",
   "execution_count": 54,
   "metadata": {},
   "outputs": [
    {
     "data": {
      "text/plain": [
       "<Figure size 1500x1000 with 0 Axes>"
      ]
     },
     "metadata": {},
     "output_type": "display_data"
    }
   ],
   "source": []
  },
  {
   "cell_type": "code",
   "execution_count": null,
   "metadata": {},
   "outputs": [],
   "source": [
    "corpus_2.frame[\"title_sentiment\"] = corpus_2[\"title\"].apply(lambda x: sent_counter(x.lower()))\n",
    "corpus_2.frame[\"positive\"] = corpus_2[\"title_sentiment\"].apply(lambda x: x[0])\n",
    "corpus_2.frame[\"negative\"] = corpus_2[\"title_sentiment\"].apply(lambda x: x[1])"
   ]
  },
  {
   "cell_type": "code",
   "execution_count": null,
   "metadata": {},
   "outputs": [],
   "source": [
    "corpus_2.frame.sort_values(by=\"positive\", ascending=False)[[\"title\", \"positive\"]].head(15)"
   ]
  },
  {
   "cell_type": "markdown",
   "metadata": {},
   "source": [
    "# Plot wordcloud"
   ]
  },
  {
   "cell_type": "code",
   "execution_count": null,
   "metadata": {},
   "outputs": [],
   "source": [
    "import wordcloud\n",
    "import matplotlib.pyplot as plt"
   ]
  },
  {
   "cell_type": "code",
   "execution_count": null,
   "metadata": {},
   "outputs": [],
   "source": [
    "# lag ordsky\n",
    "wc = wordcloud.WordCloud(background_color=\"white\", prefer_horizontal=True, width=800, height=500)\n",
    "wc.generate_from_frequencies(keyness_title.freq_x.to_dict())\n",
    "plt.figure(figsize=(30,15))\n",
    "plt.imshow(wc)\n",
    "#plt.savefig('cloud.png')"
   ]
  }
 ],
 "metadata": {
  "kernelspec": {
   "display_name": "Python 3 (ipykernel)",
   "language": "python",
   "name": "python3"
  },
  "language_info": {
   "codemirror_mode": {
    "name": "ipython",
    "version": 3
   },
   "file_extension": ".py",
   "mimetype": "text/x-python",
   "name": "python",
   "nbconvert_exporter": "python",
   "pygments_lexer": "ipython3",
   "version": "3.10.12"
  }
 },
 "nbformat": 4,
 "nbformat_minor": 4
}
